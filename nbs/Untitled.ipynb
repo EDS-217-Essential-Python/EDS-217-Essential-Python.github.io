{
 "cells": [
  {
   "cell_type": "code",
   "execution_count": 1,
   "id": "50b8188d-d705-4dff-b800-eb1a929f4b2c",
   "metadata": {},
   "outputs": [],
   "source": [
    "url = 'https://ucsb.box.com/shared/static/dnnu59jsnkymup6o8aaovdywrtxiy3a9.csv'"
   ]
  },
  {
   "cell_type": "code",
   "execution_count": 2,
   "id": "09ee6291-62a4-499f-a54f-ed056cec9b98",
   "metadata": {},
   "outputs": [],
   "source": [
    "import pandas as pd"
   ]
  },
  {
   "cell_type": "code",
   "execution_count": 15,
   "id": "c3d77385-3c0f-40fa-b697-b71ba3a4f607",
   "metadata": {},
   "outputs": [],
   "source": [
    "df = pd.read_csv(url, parse_dates=['Date'], date_format='%m/%d/%Y %I:%M:%S %p')"
   ]
  },
  {
   "cell_type": "code",
   "execution_count": 16,
   "id": "ddc5a2e2-6f7b-4c68-97ca-74baac1449da",
   "metadata": {},
   "outputs": [
    {
     "data": {
      "text/html": [
       "<div>\n",
       "<style scoped>\n",
       "    .dataframe tbody tr th:only-of-type {\n",
       "        vertical-align: middle;\n",
       "    }\n",
       "\n",
       "    .dataframe tbody tr th {\n",
       "        vertical-align: top;\n",
       "    }\n",
       "\n",
       "    .dataframe thead th {\n",
       "        text-align: right;\n",
       "    }\n",
       "</style>\n",
       "<table border=\"1\" class=\"dataframe\">\n",
       "  <thead>\n",
       "    <tr style=\"text-align: right;\">\n",
       "      <th></th>\n",
       "      <th>OBJECTID</th>\n",
       "      <th>Oceans</th>\n",
       "      <th>Regions</th>\n",
       "      <th>SubRegions</th>\n",
       "      <th>Sampling Method</th>\n",
       "      <th>Measurement</th>\n",
       "      <th>Unit</th>\n",
       "      <th>Density Range</th>\n",
       "      <th>Density Class</th>\n",
       "      <th>Short Reference</th>\n",
       "      <th>...</th>\n",
       "      <th>Organization</th>\n",
       "      <th>Keywords</th>\n",
       "      <th>Accession Number</th>\n",
       "      <th>Accession Link</th>\n",
       "      <th>Latitude</th>\n",
       "      <th>Longitude</th>\n",
       "      <th>Date</th>\n",
       "      <th>GlobalID</th>\n",
       "      <th>x</th>\n",
       "      <th>y</th>\n",
       "    </tr>\n",
       "  </thead>\n",
       "  <tbody>\n",
       "    <tr>\n",
       "      <th>0</th>\n",
       "      <td>10008</td>\n",
       "      <td>Atlantic Ocean</td>\n",
       "      <td>NaN</td>\n",
       "      <td>NaN</td>\n",
       "      <td>Grab sample</td>\n",
       "      <td>0.020000</td>\n",
       "      <td>pieces/m3</td>\n",
       "      <td>0.005-1</td>\n",
       "      <td>Medium</td>\n",
       "      <td>Barrows et al.2018</td>\n",
       "      <td>...</td>\n",
       "      <td>Adventure Scientist</td>\n",
       "      <td>Adventure Scientist/Citizen Science</td>\n",
       "      <td>211009</td>\n",
       "      <td>https://www.ncei.noaa.gov/access/metadata/land...</td>\n",
       "      <td>-58.428300</td>\n",
       "      <td>-64.1640</td>\n",
       "      <td>2017-02-03</td>\n",
       "      <td>1e5b8e71-037b-4887-a276-f1e4552acb1f</td>\n",
       "      <td>-64.1640</td>\n",
       "      <td>-58.428300</td>\n",
       "    </tr>\n",
       "    <tr>\n",
       "      <th>1</th>\n",
       "      <td>8680</td>\n",
       "      <td>Atlantic Ocean</td>\n",
       "      <td>NaN</td>\n",
       "      <td>NaN</td>\n",
       "      <td>Grab sample</td>\n",
       "      <td>0.008000</td>\n",
       "      <td>pieces/m3</td>\n",
       "      <td>0.005-1</td>\n",
       "      <td>Medium</td>\n",
       "      <td>Barrows et al.2018</td>\n",
       "      <td>...</td>\n",
       "      <td>Adventure Scientist</td>\n",
       "      <td>Adventure Scientist/Citizen Science</td>\n",
       "      <td>211009</td>\n",
       "      <td>https://www.ncei.noaa.gov/access/metadata/land...</td>\n",
       "      <td>-51.308200</td>\n",
       "      <td>-60.5467</td>\n",
       "      <td>2013-11-17</td>\n",
       "      <td>a40f7f7c-1025-4aac-ad16-ee4cba196870</td>\n",
       "      <td>-60.5467</td>\n",
       "      <td>-51.308200</td>\n",
       "    </tr>\n",
       "    <tr>\n",
       "      <th>2</th>\n",
       "      <td>13257</td>\n",
       "      <td>Pacific Ocean</td>\n",
       "      <td>NaN</td>\n",
       "      <td>NaN</td>\n",
       "      <td>Manta net</td>\n",
       "      <td>0.019886</td>\n",
       "      <td>pieces/m3</td>\n",
       "      <td>0.005-1</td>\n",
       "      <td>Medium</td>\n",
       "      <td>Faure et al.2015</td>\n",
       "      <td>...</td>\n",
       "      <td>Oceaneye Association,  Switzerland</td>\n",
       "      <td>Oceaneye Association; Citizen Science</td>\n",
       "      <td>276422</td>\n",
       "      <td>https://www.ncei.noaa.gov/access/metadata/land...</td>\n",
       "      <td>-51.826667</td>\n",
       "      <td>-72.5750</td>\n",
       "      <td>2015-12-26</td>\n",
       "      <td>febf79b8-7e2c-46e6-bc15-e08492ec2029</td>\n",
       "      <td>-72.5750</td>\n",
       "      <td>-51.826667</td>\n",
       "    </tr>\n",
       "    <tr>\n",
       "      <th>3</th>\n",
       "      <td>9676</td>\n",
       "      <td>Atlantic Ocean</td>\n",
       "      <td>NaN</td>\n",
       "      <td>NaN</td>\n",
       "      <td>Grab sample</td>\n",
       "      <td>0.018000</td>\n",
       "      <td>pieces/m3</td>\n",
       "      <td>0.005-1</td>\n",
       "      <td>Medium</td>\n",
       "      <td>Barrows et al.2018</td>\n",
       "      <td>...</td>\n",
       "      <td>Adventure Scientist</td>\n",
       "      <td>Adventure Scientist/Citizen Science</td>\n",
       "      <td>211009</td>\n",
       "      <td>https://www.ncei.noaa.gov/access/metadata/land...</td>\n",
       "      <td>-31.696000</td>\n",
       "      <td>-48.5600</td>\n",
       "      <td>2015-08-11</td>\n",
       "      <td>a77121b2-e113-444e-82d9-7af11d62fdd2</td>\n",
       "      <td>-48.5600</td>\n",
       "      <td>-31.696000</td>\n",
       "    </tr>\n",
       "    <tr>\n",
       "      <th>4</th>\n",
       "      <td>6427</td>\n",
       "      <td>Pacific Ocean</td>\n",
       "      <td>NaN</td>\n",
       "      <td>NaN</td>\n",
       "      <td>Neuston net</td>\n",
       "      <td>0.000000</td>\n",
       "      <td>pieces/m3</td>\n",
       "      <td>0-0.0005</td>\n",
       "      <td>Very Low</td>\n",
       "      <td>Law et al.2014</td>\n",
       "      <td>...</td>\n",
       "      <td>Sea Education Association</td>\n",
       "      <td>SEA</td>\n",
       "      <td>211008</td>\n",
       "      <td>https://www.ncei.noaa.gov/access/metadata/land...</td>\n",
       "      <td>6.350000</td>\n",
       "      <td>-121.8500</td>\n",
       "      <td>2002-12-18</td>\n",
       "      <td>be27c450-02ca-4261-8d89-cae21108e6cc</td>\n",
       "      <td>-121.8500</td>\n",
       "      <td>6.350000</td>\n",
       "    </tr>\n",
       "  </tbody>\n",
       "</table>\n",
       "<p>5 rows × 22 columns</p>\n",
       "</div>"
      ],
      "text/plain": [
       "   OBJECTID          Oceans Regions SubRegions Sampling Method  Measurement  \\\n",
       "0     10008  Atlantic Ocean     NaN        NaN     Grab sample     0.020000   \n",
       "1      8680  Atlantic Ocean     NaN        NaN     Grab sample     0.008000   \n",
       "2     13257   Pacific Ocean     NaN        NaN       Manta net     0.019886   \n",
       "3      9676  Atlantic Ocean     NaN        NaN     Grab sample     0.018000   \n",
       "4      6427   Pacific Ocean     NaN        NaN     Neuston net     0.000000   \n",
       "\n",
       "        Unit Density Range Density Class     Short Reference  ...  \\\n",
       "0  pieces/m3       0.005-1        Medium  Barrows et al.2018  ...   \n",
       "1  pieces/m3       0.005-1        Medium  Barrows et al.2018  ...   \n",
       "2  pieces/m3       0.005-1        Medium    Faure et al.2015  ...   \n",
       "3  pieces/m3       0.005-1        Medium  Barrows et al.2018  ...   \n",
       "4  pieces/m3      0-0.0005      Very Low      Law et al.2014  ...   \n",
       "\n",
       "                         Organization                               Keywords  \\\n",
       "0                 Adventure Scientist    Adventure Scientist/Citizen Science   \n",
       "1                 Adventure Scientist    Adventure Scientist/Citizen Science   \n",
       "2  Oceaneye Association,  Switzerland  Oceaneye Association; Citizen Science   \n",
       "3                 Adventure Scientist    Adventure Scientist/Citizen Science   \n",
       "4           Sea Education Association                                    SEA   \n",
       "\n",
       "  Accession Number                                     Accession Link  \\\n",
       "0           211009  https://www.ncei.noaa.gov/access/metadata/land...   \n",
       "1           211009  https://www.ncei.noaa.gov/access/metadata/land...   \n",
       "2           276422  https://www.ncei.noaa.gov/access/metadata/land...   \n",
       "3           211009  https://www.ncei.noaa.gov/access/metadata/land...   \n",
       "4           211008  https://www.ncei.noaa.gov/access/metadata/land...   \n",
       "\n",
       "    Latitude Longitude       Date                              GlobalID  \\\n",
       "0 -58.428300  -64.1640 2017-02-03  1e5b8e71-037b-4887-a276-f1e4552acb1f   \n",
       "1 -51.308200  -60.5467 2013-11-17  a40f7f7c-1025-4aac-ad16-ee4cba196870   \n",
       "2 -51.826667  -72.5750 2015-12-26  febf79b8-7e2c-46e6-bc15-e08492ec2029   \n",
       "3 -31.696000  -48.5600 2015-08-11  a77121b2-e113-444e-82d9-7af11d62fdd2   \n",
       "4   6.350000 -121.8500 2002-12-18  be27c450-02ca-4261-8d89-cae21108e6cc   \n",
       "\n",
       "          x          y  \n",
       "0  -64.1640 -58.428300  \n",
       "1  -60.5467 -51.308200  \n",
       "2  -72.5750 -51.826667  \n",
       "3  -48.5600 -31.696000  \n",
       "4 -121.8500   6.350000  \n",
       "\n",
       "[5 rows x 22 columns]"
      ]
     },
     "execution_count": 16,
     "metadata": {},
     "output_type": "execute_result"
    }
   ],
   "source": [
    "df.head()"
   ]
  },
  {
   "cell_type": "code",
   "execution_count": 41,
   "id": "37a3f2ec-1d88-4d20-b6e5-aff26b556b4a",
   "metadata": {},
   "outputs": [
    {
     "data": {
      "text/plain": [
       "max    110480.0\n",
       "Name: Measurement, dtype: float64"
      ]
     },
     "execution_count": 41,
     "metadata": {},
     "output_type": "execute_result"
    }
   ],
   "source": [
    "df[df['Unit'] == 'pieces/m3']['Measurement'].agg(['max'])"
   ]
  },
  {
   "cell_type": "code",
   "execution_count": 44,
   "id": "9c30fc44-60ad-4820-a049-b9c6418948c2",
   "metadata": {},
   "outputs": [
    {
     "data": {
      "text/plain": [
       "Oceans\n",
       "Arctic Ocean        1.916192\n",
       "Atlantic Ocean    202.347671\n",
       "Pacific Ocean     452.918721\n",
       "Southern Ocean      0.068133\n",
       "Name: Measurement, dtype: float64"
      ]
     },
     "execution_count": 44,
     "metadata": {},
     "output_type": "execute_result"
    }
   ],
   "source": [
    "df.groupby(['Oceans'])['Measurement'].mean()"
   ]
  },
  {
   "cell_type": "code",
   "execution_count": 45,
   "id": "cab788f5-2872-44fe-88db-0b2872505b3a",
   "metadata": {},
   "outputs": [],
   "source": [
    "df2 = df[df['Unit'] == 'pieces/m3']"
   ]
  },
  {
   "cell_type": "code",
   "execution_count": 49,
   "id": "7e2ca159-7ddd-451d-a71f-1d8a993a56d3",
   "metadata": {},
   "outputs": [
    {
     "data": {
      "text/plain": [
       "<Axes: >"
      ]
     },
     "execution_count": 49,
     "metadata": {},
     "output_type": "execute_result"
    },
    {
     "data": {
      "image/png": "[encoded data removed]",
      "text/plain": [
       "<Figure size 640x480 with 1 Axes>"
      ]
     },
     "metadata": {},
     "output_type": "display_data"
    }
   ],
   "source": [
    "df2['Latitude'].hist()"
   ]
  },
  {
   "cell_type": "code",
   "execution_count": 58,
   "id": "0b712bdc-a0c5-4eac-ad4c-54c2ee73ee25",
   "metadata": {},
   "outputs": [
    {
     "data": {
      "text/plain": [
       "<Axes: xlabel='Date'>"
      ]
     },
     "execution_count": 58,
     "metadata": {},
     "output_type": "execute_result"
    },
    {
     "data": {
      "image/png": "[encoded data removed]",
      "text/plain": [
       "<Figure size 640x480 with 1 Axes>"
      ]
     },
     "metadata": {},
     "output_type": "display_data"
    }
   ],
   "source": [
    "df2['Date'].dt.year.value_counts().sort_index().plot.line()"
   ]
  },
  {
   "cell_type": "code",
   "execution_count": 64,
   "id": "0dae23bf-6bed-4d56-a3ef-fd94706cd034",
   "metadata": {},
   "outputs": [
    {
     "data": {
      "text/plain": [
       "<Axes: xlabel='Date'>"
      ]
     },
     "execution_count": 64,
     "metadata": {},
     "output_type": "execute_result"
    },
    {
     "data": {
      "image/png": "[encoded data removed]",
      "text/plain": [
       "<Figure size 640x480 with 1 Axes>"
      ]
     },
     "metadata": {},
     "output_type": "display_data"
    }
   ],
   "source": [
    "df2['Date'].dt.weekday.value_counts().sort_index().plot.line()"
   ]
  },
  {
   "cell_type": "code",
   "execution_count": 65,
   "id": "40966ede-4067-4c2e-bb37-e40ab8f2097c",
   "metadata": {},
   "outputs": [],
   "source": [
    "oceans = df.groupby(['Oceans'])"
   ]
  },
  {
   "cell_type": "code",
   "execution_count": 68,
   "id": "57bebc8a-ee18-4fc2-bef3-d3be9b1d9cc7",
   "metadata": {},
   "outputs": [
    {
     "data": {
      "text/plain": [
       "Oceans\n",
       "Arctic Ocean        1.916192\n",
       "Atlantic Ocean    202.347671\n",
       "Pacific Ocean     452.918721\n",
       "Southern Ocean      0.068133\n",
       "Name: Measurement, dtype: float64"
      ]
     },
     "execution_count": 68,
     "metadata": {},
     "output_type": "execute_result"
    }
   ],
   "source": [
    "oceans['Measurement'].mean()"
   ]
  },
  {
   "cell_type": "code",
   "execution_count": 73,
   "id": "452883e5-5c7c-4989-b5f3-a5e6df274eed",
   "metadata": {},
   "outputs": [
    {
     "data": {
      "text/plain": [
       "Oceans\n",
       "Arctic Ocean          63.000000\n",
       "Atlantic Ocean    110480.000000\n",
       "Pacific Ocean      21156.558533\n",
       "Southern Ocean         0.499663\n",
       "Name: Measurement, dtype: float64"
      ]
     },
     "execution_count": 73,
     "metadata": {},
     "output_type": "execute_result"
    }
   ],
   "source": [
    "df2 = df[df['Unit'] == 'pieces/m3']"
   ]
  },
  {
   "cell_type": "code",
   "execution_count": 74,
   "id": "d83da450-4b7f-4444-a35b-8886fa880579",
   "metadata": {},
   "outputs": [],
   "source": [
    "df2 = df[(df['Unit'] == 'pieces/m3') & (df['Measurement'] > 0)]"
   ]
  },
  {
   "cell_type": "code",
   "execution_count": null,
   "id": "c044e68b-1f2a-481f-aef2-a025ec99e07b",
   "metadata": {},
   "outputs": [],
   "source": []
  }
 ],
 "metadata": {
  "kernelspec": {
   "display_name": "eds217_2024",
   "language": "python",
   "name": "myenv"
  },
  "language_info": {
   "codemirror_mode": {
    "name": "ipython",
    "version": 3
   },
   "file_extension": ".py",
   "mimetype": "text/x-python",
   "name": "python",
   "nbconvert_exporter": "python",
   "pygments_lexer": "ipython3",
   "version": "3.11.9"
  }
 },
 "nbformat": 4,
 "nbformat_minor": 5
}
