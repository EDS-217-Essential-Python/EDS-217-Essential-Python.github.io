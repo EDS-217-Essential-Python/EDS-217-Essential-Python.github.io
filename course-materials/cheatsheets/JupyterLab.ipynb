{
 "cells": [
  {
   "cell_type": "markdown",
   "metadata": {},
   "source": [
    "# JupyterLab Keyboard Shortcuts\n",
    "\n",
    "## Command Mode Shortcuts (Press `Esc` to enter Command Mode)\n",
    "\n",
    "- **Enter**: Enter edit mode\n",
    "- **Shift + Enter**: Run cell and select below\n",
    "- **Ctrl + Enter**: Run cell\n",
    "- **Alt + Enter**: Run cell and insert below\n",
    "- **Y**: Convert cell to code\n",
    "- **M**: Convert cell to markdown\n",
    "- **R**: Convert cell to raw\n",
    "- **1-6**: Set cell to heading level 1-6\n",
    "- **A**: Insert cell above\n",
    "- **B**: Insert cell below\n",
    "- **X**: Cut selected cells\n",
    "- **C**: Copy selected cells\n",
    "- **V**: Paste cells below\n",
    "- **Shift + V**: Paste cells above\n",
    "- **D, D**: Delete selected cells\n",
    "- **Z**: Undo cell deletion\n",
    "- **S**: Save and checkpoint\n",
    "- **L**: Toggle line numbers\n",
    "- **O**: Toggle output\n",
    "- **Shift + O**: Toggle output scrolling\n",
    "- **H**: Show keyboard shortcuts\n"
   ]
  },
  {
   "cell_type": "markdown",
   "metadata": {},
   "source": [
    "\n",
    "## Edit Mode Shortcuts (Press `Enter` to enter Edit Mode)\n",
    "\n",
    "- **Ctrl + Enter**: Run cell\n",
    "- **Shift + Enter**: Run cell and select below\n",
    "- **Alt + Enter**: Run cell and insert below\n",
    "- **Tab**: Code completion or indent\n",
    "- **Shift + Tab**: Tooltip for object (for docs)\n",
    "- **Ctrl + ]**: Indent\n",
    "- **Ctrl + [**: Dedent\n",
    "- **Ctrl + Z**: Undo\n",
    "- **Ctrl + Y**: Redo\n",
    "- **Ctrl + A**: Select all\n",
    "- **Ctrl + S**: Save and checkpoint\n",
    "- **Ctrl + Home**: Go to cell start\n",
    "- **Ctrl + End**: Go to cell end\n",
    "- **Ctrl + Left**: Move cursor word left\n",
    "- **Ctrl + Right**: Move cursor word right\n",
    "- **Ctrl + /**: Toggle comment lines\n",
    "- **Ctrl + Shift + -**: Split cell at cursor\n"
   ]
  },
  {
   "cell_type": "markdown",
   "metadata": {},
   "source": [
    "\n",
    "## Additional Tips\n",
    "\n",
    "- **F**: Find and replace\n",
    "- **Shift + M**: Merge selected cells or current cell with the one below\n",
    "- **Ctrl + Shift + P**: Open command palette\n",
    "- **Ctrl + Shift + L**: Select current cell outputs\n"
   ]
  },
  {
   "cell_type": "markdown",
   "metadata": {},
   "source": [
    "\n",
    "## Customizing Shortcuts\n",
    "\n",
    "You can customize keyboard shortcuts in JupyterLab by opening the **Settings** menu and selecting **Advanced Settings Editor**. This allows you to modify the JSON configuration for keyboard shortcuts, among other settings.\n",
    "\n",
    "For more detailed information and updates on JupyterLab shortcuts, you can refer to the [JupyterLab documentation](https://jupyterlab.readthedocs.io/en/stable/user/interface.html#keyboard-shortcuts)."
   ]
  },
  {
   "cell_type": "markdown",
   "metadata": {},
   "source": []
  }
 ],
 "metadata": {
  "language_info": {
   "name": "python"
  }
 },
 "nbformat": 4,
 "nbformat_minor": 2
}
