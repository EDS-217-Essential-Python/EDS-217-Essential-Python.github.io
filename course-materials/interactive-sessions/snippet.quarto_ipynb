{
  "cells": [
    {
      "cell_type": "markdown",
      "metadata": {},
      "source": [
        "**Note** If your `Series` doesn't have a name, you can still export it, but the header will be `Unnamed` unless you provide one. We will learn a lot more about working with `Series` and `DataFrames` in the coming days!\n",
        "\n",
        "It's also easy to write your analyses to many other file types.\n"
      ],
      "id": "a471fafe"
    },
    {
      "cell_type": "code",
      "metadata": {},
      "source": [
        "#| echo: true\n",
        "#| include: true\n",
        "\n",
        "# 1. Export to CSV (Comma-Separated Values)\n",
        "monthly_means.to_csv(\"monthly_means.csv\", header=True)\n",
        "\n",
        "# 2. Export to Excel (requires openpyxl)\n",
        "# monthly_means.to_excel(\"monthly_means.xlsx\", header=True)\n",
        "\n",
        "# 3. Export to JSON (Javascript Serialized Object Notation)\n",
        "monthly_means.to_json(\"monthly_means.json\", orient=\"index\")\n",
        "\n",
        "# 4. Export to Pickle (Serialized binary format)\n",
        "monthly_means.to_pickle(\"monthly_means.pkl\")"
      ],
      "id": "80066408",
      "execution_count": null,
      "outputs": []
    },
    {
      "cell_type": "markdown",
      "metadata": {},
      "source": [
        "---\n",
        "10. **Saving Figures as Images**\n",
        "\n",
        "Of course, you can also export your images and figures into a variety of file formats. \n",
        "\n",
        "Let's look at an example that demonstrates how to save figures generated with `matplotlib` in common image formats. I'll also highlight the most important options you can use when saving these images.\n",
        "\n",
        "#### Example Code: Saving Figures as Common Image Formats"
      ],
      "id": "498ad220"
    },
    {
      "cell_type": "code",
      "metadata": {},
      "source": [
        "#| echo: true\n",
        "#| include: true\n",
        "\n",
        "# Sample data so we can make a really simple figure!\n",
        "x = [1, 2, 3, 4, 5]\n",
        "y = [2, 3, 5, 7, 11]\n",
        "\n",
        "# Create a simple line plot\n",
        "plt.figure(figsize=(8, 6))  # Set figure size\n",
        "plt.plot(x, y, marker='o', linestyle='-', color='b', label='Sample Data')\n",
        "plt.title(\"Sample Plot\")\n",
        "plt.xlabel(\"X-axis Label\")\n",
        "plt.ylabel(\"Y-axis Label\")\n",
        "plt.legend()\n",
        "\n",
        "# 1. Save as PNG (Portable Network Graphics)\n",
        "plt.savefig(\"sample_plot.png\", dpi=300, bbox_inches='tight')\n",
        "\n",
        "# 2. Save as JPEG (Joint Photographic Experts Group)\n",
        "plt.savefig(\"sample_plot.jpg\", format='jpeg', dpi=300, bbox_inches='tight')\n",
        "\n",
        "# 3. Save as PDF (Portable Document Format)\n",
        "plt.savefig(\"sample_plot.pdf\", bbox_inches='tight')\n",
        "\n",
        "# 4. Save as SVG (Scalable Vector Graphics)\n",
        "plt.savefig(\"sample_plot.svg\", bbox_inches='tight')\n",
        "\n",
        "# 5. Save as TIFF (Tagged Image File Format)\n",
        "plt.savefig(\"sample_plot.tiff\", dpi=300, bbox_inches='tight')\n",
        "\n",
        "# Display the plot (optional)\n",
        "plt.show()"
      ],
      "id": "dfe7d040",
      "execution_count": null,
      "outputs": []
    },
    {
      "cell_type": "markdown",
      "metadata": {},
      "source": [
        "#### Explanation of Each Format and Key Options:\n",
        "\n",
        "1. **PNG (Portable Network Graphics)**\n",
        "   - **Code:** `plt.savefig(\"sample_plot.png\", dpi=300, bbox_inches='tight')`\n",
        "   - **Usage:** PNG is a lossless image format ideal for high-quality graphics and images with transparency.\n",
        "   - **Options:**\n",
        "     - **dpi:** Dots per inch, controls the resolution. Higher values produce higher-quality images. `dpi=300` is common for publication-quality images.\n",
        "     - **bbox_inches='tight':** Trims the whitespace around the figure, ensuring a tight layout.\n",
        "\n",
        "2. **JPEG (Joint Photographic Experts Group)**\n",
        "   - **Code:** `plt.savefig(\"sample_plot.jpg\", dpi=300, bbox_inches='tight')`\n",
        "   - **Usage:** JPEG is a lossy compression format best suited for photographs. It is not ideal for images with sharp edges or text. The  compression used by matplotlib is 75 on a scale from 0-100 (100 is best quality, least compression)\n",
        "   - **Options:**\n",
        "     - **dpi:** Resolution, same as with PNG.\n",
        "\n",
        "3. **PDF (Portable Document Format)**\n",
        "   - **Code:** `plt.savefig(\"sample_plot.pdf\", bbox_inches='tight')`\n",
        "   - **Usage:** PDF is a vector format, ideal for documents and scalable graphics. It preserves quality at any zoom level. For this reason, it can create very large files if you are exporting an image with thousands to millions of points, so be careful!\n",
        "   - **Options:**\n",
        "     - **bbox_inches='tight':** Ensures a tight layout without unnecessary whitespace.\n",
        "\n",
        "4. **SVG (Scalable Vector Graphics)**\n",
        "   - **Code:** `plt.savefig(\"sample_plot.svg\", bbox_inches='tight')`\n",
        "   - **Usage:** SVG is a vector format that is widely used on the web. It's easier to edit than a PDF, and it’s ideal for smaller-sized graphics that need to scale without losing quality. It will generally make figures that are larger than PDFs, so this format is not a good choice for complicated plots!\n",
        "   - **Options:**\n",
        "     - **bbox_inches='tight':** Again, this option is useful to ensure a tight layout.\n",
        "\n",
        "5. **TIFF (Tagged Image File Format)**\n",
        "   - **Code:** `plt.savefig(\"sample_plot.tiff\", dpi=300, bbox_inches='tight')`\n",
        "   - **Usage:** TIFF is a lossless format often used in professional environments, especially for printing and scanning.\n",
        "   - **Options:**\n",
        "     - **dpi:** Higher DPI settings ensure better quality, especially important for print.\n"
      ],
      "id": "63d2e7da"
    }
  ],
  "metadata": {
    "kernelspec": {
      "name": "planet_api",
      "language": "python",
      "display_name": "planet_api",
      "path": "/Users/kellycaylor/Library/Jupyter/kernels/planet_api"
    }
  },
  "nbformat": 4,
  "nbformat_minor": 5
}