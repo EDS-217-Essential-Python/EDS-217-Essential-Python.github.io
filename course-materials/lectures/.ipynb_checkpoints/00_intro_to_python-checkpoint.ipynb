{
 "cells": [
  {
   "cell_type": "raw",
   "metadata": {},
   "source": [
    "---\n",
    "title: Lecture 1 - Intro to Python and Environmental Data Science\n",
    "---"
   ]
  },
  {
   "cell_type": "markdown",
   "metadata": {
    "editable": true,
    "jp-MarkdownHeadingCollapsed": true,
    "slideshow": {
     "slide_type": "slide"
    },
    "tags": []
   },
   "source": [
    "# EDS 217, Lecture 1: Introduction to Python and Environmental Data Science\n",
    "\n",
    "- Course Webpage: [https://eds-217-essential-python.github.io](https://eds-217-essential-python.github.io)\n"
   ]
  },
  {
   "cell_type": "markdown",
   "metadata": {
    "editable": true,
    "slideshow": {
     "slide_type": "slide"
    },
    "tags": []
   },
   "source": [
    "![data_science.jpg](assets/data_science.jpg)"
   ]
  },
  {
   "cell_type": "markdown",
   "metadata": {
    "editable": true,
    "slideshow": {
     "slide_type": "slide"
    },
    "tags": []
   },
   "source": [
    "![environmental_data_science.jpg](assets/environmental_data_science.jpg)"
   ]
  },
  {
   "cell_type": "markdown",
   "metadata": {
    "editable": true,
    "slideshow": {
     "slide_type": "slide"
    },
    "tags": []
   },
   "source": [
    "## Lecture Agenda\n",
    "\n",
    "1. 🐍 What Python?\n",
    "1. ❓ Why Python?\n",
    "1. 💻 How Python?"
   ]
  },
  {
   "cell_type": "markdown",
   "metadata": {
    "editable": true,
    "slideshow": {
     "slide_type": "fragment"
    },
    "tags": []
   },
   "source": [
    "> \"Python is powerful... and fast; \n",
    "plays well with others; \n",
    "runs everywhere; \n",
    "is friendly & easy to learn; \n",
    "is Open.\""
   ]
  },
  {
   "cell_type": "markdown",
   "metadata": {
    "editable": true,
    "slideshow": {
     "slide_type": "slide"
    },
    "tags": []
   },
   "source": [
    "## What is Python?\n",
    "\n",
    "Python is a *general-purpose, object-oriented programming language* that emphasizes _code readability_ through its generous use of white space. Released in 1989, Python is easy to learn and a favorite of programmers and developers.\n",
    "\n"
   ]
  },
  {
   "cell_type": "markdown",
   "metadata": {
    "editable": true,
    "slideshow": {
     "slide_type": "subslide"
    },
    "tags": []
   },
   "source": [
    "### High-level languages \n",
    "(Python, C, C++, Java, Javascript, R, Pascal)\n",
    "- Take less time to write\n",
    "- Shorter and easier to read\n",
    "- Portable, meaning that they can run on different kinds of computers with few or no modifications.\n",
    "\n",
    "The engine that translates and runs Python is called the *Python Interpreter*"
   ]
  },
  {
   "cell_type": "code",
   "execution_count": null,
   "metadata": {
    "editable": true,
    "slideshow": {
     "slide_type": "subslide"
    },
    "tags": []
   },
   "outputs": [],
   "source": [
    "\"\"\" \n",
    "Entering code into this notebook cell \n",
    "and pressing [SHIFT-ENTER] will cause the \n",
    "python interpreter to execute the code\n",
    "\"\"\"\n",
    "print(\"Hello world!\")\n",
    "print(\"[from this notebook cell]\")"
   ]
  },
  {
   "cell_type": "code",
   "execution_count": null,
   "metadata": {
    "editable": true,
    "slideshow": {
     "slide_type": "subslide"
    },
    "tags": []
   },
   "outputs": [],
   "source": [
    "\"\"\"\n",
    "Alternatively, you can run a \n",
    "any python script file (.py file)\n",
    "so long as it contains valid\n",
    "python code.\n",
    "\"\"\"\n",
    "!python hello_world.py"
   ]
  },
  {
   "cell_type": "markdown",
   "metadata": {
    "editable": true,
    "slideshow": {
     "slide_type": "subslide"
    },
    "tags": []
   },
   "source": [
    "### Natural vs. Formal Languages\n",
    "\n",
    "*Natural languages* are the languages that people speak. They are not designed (although they are subjected to various degrees of \"order\") and evolve naturally. \n",
    "\n",
    "\n"
   ]
  },
  {
   "cell_type": "markdown",
   "metadata": {
    "editable": true,
    "slideshow": {
     "slide_type": "subslide"
    },
    "tags": []
   },
   "source": [
    "\n",
    "*Formal languages* are languages that are designed by people for specific applications. \n",
    "- Mathematical Notation $E=mc^2$ \n",
    "- Chemical Notation: $\\text{H}_2\\text{O}$\n",
    "\n",
    "\n",
    "*Programming languages* are **formal languages that have been designed to express computations**.\n",
    "\n"
   ]
  },
  {
   "cell_type": "markdown",
   "metadata": {
    "editable": true,
    "slideshow": {
     "slide_type": "fragment"
    },
    "tags": []
   },
   "source": [
    "**Parsing**: The process of figuring out what the structure of a sentence or statement is (in a natural language you do this subconsciously). \n"
   ]
  },
  {
   "cell_type": "markdown",
   "metadata": {
    "editable": true,
    "slideshow": {
     "slide_type": "subslide"
    },
    "tags": []
   },
   "source": [
    "Formal Languages have **strict** syntax for _tokens_ and _structure_:\n",
    "\n",
    "- Mathematical syntax error: $E=\\$m🦆_2$ (bad tokens & bad structure)\n",
    "- Chemical syntax error: $\\text{G}_3\\text{Z}$ (bad tokens, but structure is okay)"
   ]
  },
  {
   "cell_type": "markdown",
   "metadata": {
    "editable": true,
    "slideshow": {
     "slide_type": "subslide"
    },
    "tags": []
   },
   "source": [
    "### Differences between Natural and Formal languages\n",
    "1. _Ambiguity_:\n",
    "Natural languages are full of ambiguity, which people parse using contextual clues. Formal languages are nearly or completely unambiguous; any statement has exactly one meaning, regardless of context.\n",
    "1. _Redundancy_:\n",
    "In order to make up for ambiguity, natural languages employ lots of redundancy. Formal languages are less redundant and more concise.\n",
    "1. _Literalness_:\n",
    "Formal languages mean exactly what they say. Natural languages employ idioms and metaphors.\n",
    "\n",
    "The inherent differences between familiar natural languages and unfamiliar formal languages creates one of the greatest challenges in learning to code."
   ]
  },
  {
   "cell_type": "markdown",
   "metadata": {
    "editable": true,
    "slideshow": {
     "slide_type": "subslide"
    },
    "tags": []
   },
   "source": [
    "### A continuum of formalism\n",
    "- _poetry_: Words are used for sound and meaning. Ambiguity is common and often deliberate.\n",
    "- _prose_: The literal meaning of words is important, and the structure contributes meaning. Amenable to analysis but still often ambiguous.\n",
    "- _program_: Meaning is unambiguous and literal, and can be understood entirely by analysis of the tokens and structure."
   ]
  },
  {
   "cell_type": "markdown",
   "metadata": {
    "editable": true,
    "slideshow": {
     "slide_type": "subslide"
    },
    "tags": []
   },
   "source": [
    "#### Strategies for parsing formal languages:\n",
    "- **Formal languages are very dense**, so it takes longer to read them. \n",
    "- **Structure is very important**, so it is usually not a good idea to read from top to bottom, left to right. Instead, learn to parse the program in your head, identifying the tokens and interpreting the structure. \n",
    "- **Details matter**. Little things like spelling errors and bad punctuation, which you can get away with in natural languages, will make a big difference in a formal language."
   ]
  },
  {
   "cell_type": "markdown",
   "metadata": {
    "editable": true,
    "slideshow": {
     "slide_type": "slide"
    },
    "tags": []
   },
   "source": [
    "## Why Python?\n",
    "\n",
    "\n",
    "\n",
    "[IBM: R vs. Python](https://www.ibm.com/cloud/blog/python-vs-r)\n"
   ]
  },
  {
   "cell_type": "markdown",
   "metadata": {
    "editable": true,
    "slideshow": {
     "slide_type": "subslide"
    },
    "tags": []
   },
   "source": [
    "Python is a multi-purpose language with a readable syntax that’s easy to learn. Programmers use Python to delve into data analysis or use machine learning in scalable production environments.\n",
    "\n",
    "R is built by statisticians and leans heavily into statistical models and specialized analytics. Data scientists use R for deep statistical analysis, supported by just a few lines of code and beautiful data visualizations. "
   ]
  },
  {
   "cell_type": "markdown",
   "metadata": {
    "editable": true,
    "slideshow": {
     "slide_type": "subslide"
    },
    "tags": []
   },
   "source": [
    "In general, R is better for initial exploratory analyses, statistical analyses, and data visualization. "
   ]
  },
  {
   "cell_type": "markdown",
   "metadata": {
    "editable": true,
    "slideshow": {
     "slide_type": "fragment"
    },
    "tags": []
   },
   "source": [
    "In general, Python is better for working with APIs, writing maintainable, production-ready code, working with a diverse array of data, and building machine learning or AI workflows."
   ]
  },
  {
   "cell_type": "markdown",
   "metadata": {
    "editable": true,
    "slideshow": {
     "slide_type": "subslide"
    },
    "tags": []
   },
   "source": [
    "Both languages can _do_ anything. \n",
    "Most data science teams use both languages.\n",
    "(and others too.. Matlab, Javascript, Go, Fortran, etc...)"
   ]
  },
  {
   "cell_type": "code",
   "execution_count": null,
   "metadata": {
    "editable": true,
    "slideshow": {
     "slide_type": "fragment"
    },
    "tags": []
   },
   "outputs": [],
   "source": [
    "from IPython.lib.display import YouTubeVideo\n",
    "YouTubeVideo('GVvfNgszdU0')"
   ]
  },
  {
   "cell_type": "markdown",
   "metadata": {
    "editable": true,
    "slideshow": {
     "slide_type": "subslide"
    },
    "tags": []
   },
   "source": [
    "### Language Usage by Data Scientists\n",
    "[Anaconda State of Data Science](https://www.anaconda.com/state-of-data-science-2022)\n",
    "\n",
    "Data from 2021:\n",
    "![language_usage_2021.jpg](assets/language_usage_2021.jpg)"
   ]
  },
  {
   "cell_type": "markdown",
   "metadata": {
    "editable": true,
    "slideshow": {
     "slide_type": "subslide"
    },
    "tags": []
   },
   "source": [
    "## What about 2023 data?\n",
    "\n",
    "\n",
    "The data are [available here](https://raw.githubusercontent.com/anaconda/state-of-data-science/main/sods-survey-results-2023.csv)...\n",
    "\n",
    "But, unfortunately, they changed the format of the responses concerning language use between 2022 and 2023. But we can take look at the 2022 data...\n",
    "\n",
    "Let's do some python data science!"
   ]
  },
  {
   "cell_type": "code",
   "execution_count": null,
   "metadata": {
    "editable": true,
    "slideshow": {
     "slide_type": "subslide"
    },
    "tags": []
   },
   "outputs": [],
   "source": [
    "# First, we need to gather our tools\n",
    "import pandas as pd  # This is the most common data science package used in python!\n",
    "import matplotlib.pyplot as plt # This is the most widely-used plotting package.\n",
    "\n",
    "import requests # This package helps us make https requests \n",
    "import io # This package is good at handling input/output streams"
   ]
  },
  {
   "cell_type": "code",
   "execution_count": null,
   "metadata": {
    "editable": true,
    "slideshow": {
     "slide_type": "subslide"
    },
    "tags": []
   },
   "outputs": [],
   "source": [
    "# Here's the url for the 2022 data. It has a similar structure to the 2021 data, so we can compare them.\n",
    "url = \"https://static.anaconda.cloud/content/Anaconda_2022_State_of_Data_Science_+Raw_Data.csv\"\n",
    "response = requests.get(url)\n"
   ]
  },
  {
   "cell_type": "code",
   "execution_count": null,
   "metadata": {
    "editable": true,
    "slideshow": {
     "slide_type": "subslide"
    },
    "tags": []
   },
   "outputs": [],
   "source": [
    "# Read the response into a dataframe, using the io.StringIO function to feed the response.txt.\n",
    "# Also, skip the first three rows\n",
    "df = pd.read_csv(io.StringIO(response.text), skiprows=3)\n",
    "\n",
    "# Our very first dataframe!\n",
    "df.head()\n",
    "\n",
    "# Jupyter notebook cells only output the last value requested..."
   ]
  },
  {
   "cell_type": "code",
   "execution_count": null,
   "metadata": {
    "slideshow": {
     "slide_type": "subslide"
    }
   },
   "outputs": [],
   "source": [
    "\n",
    "# Jupyter notebook cells only output the last value... unless you use print commands!\n",
    "print(f'Number of survey responses: {len(df)}')\n",
    "print(f'Number of survey questions: {len(df.columns)}')"
   ]
  },
  {
   "cell_type": "code",
   "execution_count": null,
   "metadata": {
    "slideshow": {
     "slide_type": "subslide"
    }
   },
   "outputs": [],
   "source": [
    "# 1. Filter the dataframe to only the questions about programming language usage, and \n",
    "filtered_df = df.filter(like='How often do you use the following languages?').copy() # Use copy to force python to make a new copy of the data, not just a reference to a subset.\n",
    "\n",
    "# 2. Rename the columns to just be the programming languages, without the question preamble\n",
    "filtered_df.rename(columns=lambda x: x.split('-')[-1].strip() if '-' in x else x, inplace=True)\n",
    "\n",
    "print(filtered_df.columns)"
   ]
  },
  {
   "cell_type": "code",
   "execution_count": null,
   "metadata": {
    "slideshow": {
     "slide_type": "subslide"
    }
   },
   "outputs": [],
   "source": [
    "# Show the unique values of the `Python` column\n",
    "print(filtered_df['Python'].unique())"
   ]
  },
  {
   "cell_type": "code",
   "execution_count": null,
   "metadata": {
    "slideshow": {
     "slide_type": "subslide"
    }
   },
   "outputs": [],
   "source": [
    "# Calculate the percentage of each response for each language\n",
    "percentage_df = filtered_df.apply(lambda x: x.value_counts(normalize=True).fillna(0) * 100).transpose()\n",
    "\n",
    "# Remove the last row, which is the \"Other\" category\n",
    "percentage_df = percentage_df[:-1]\n",
    "\n",
    "# Sort the DataFrame based on the 'Always' responses\n",
    "sorted_percentage_df = percentage_df.sort_values(by='Always', ascending=True)"
   ]
  },
  {
   "cell_type": "code",
   "execution_count": null,
   "metadata": {
    "slideshow": {
     "slide_type": "subslide"
    }
   },
   "outputs": [],
   "source": [
    "# Let's get ready to plot the 2022 data...\n",
    "from IPython.display import display\n",
    "\n",
    "# We are going to use the display command to update our figure over multiple cells. \n",
    "# This usually isn't necessary, but it's helpful here to see how each set of commands updates the figure\n",
    "\n",
    "# Define the custom order for plotting\n",
    "order = ['Always', 'Frequently', 'Sometimes', 'Rarely', 'Never']\n",
    "\n",
    "colors = {\n",
    "    'Always': (8/255, 40/255, 81/255),       # Replace R1, G1, B1 with the RGB values for 'Dark Blue'\n",
    "    'Frequently': (12/255, 96/255, 152/255),   # Replace R2, G2, B2 with the RGB values for 'Light Ocean Blue'\n",
    "    'Sometimes': (16/255, 146/255, 136/255),    # and so on...\n",
    "    'Rarely': (11/255, 88/255, 73/255),\n",
    "    'Never': (52/255, 163/255, 32/255)\n",
    "}"
   ]
  },
  {
   "cell_type": "code",
   "execution_count": null,
   "metadata": {
    "slideshow": {
     "slide_type": "subslide"
    }
   },
   "outputs": [],
   "source": [
    "# Make the plot\n",
    "fig, ax = plt.subplots(figsize=(10, 7))\n",
    "sorted_percentage_df[order].plot(kind='barh', stacked=True, ax=ax, color=[colors[label] for label in order])\n",
    "ax.set_xlabel('Percentage')\n",
    "ax.set_title('Frequency of Language Usage, 2022',y=1.05)\n",
    "\n",
    "plt.show() # This command draws our figure. "
   ]
  },
  {
   "cell_type": "code",
   "execution_count": null,
   "metadata": {
    "slideshow": {
     "slide_type": "subslide"
    }
   },
   "outputs": [],
   "source": [
    "# Add labels across the top, like in the original graph\n",
    "\n",
    "# Get the patches for the top-most bar\n",
    "num_languages = len(sorted_percentage_df)\n",
    "\n",
    "patches = ax.patches[num_languages-1::num_languages]\n",
    "# Calculate the cumulative width of the patches for the top-most bar\n",
    "cumulative_widths = [0] * len(order)\n",
    "widths = [patch.get_width() for patch in patches]\n",
    "for i, width in enumerate(widths):\n",
    "    cumulative_widths[i] = width + (cumulative_widths[i-1] if i > 0 else 0)\n"
   ]
  },
  {
   "cell_type": "code",
   "execution_count": null,
   "metadata": {},
   "outputs": [],
   "source": [
    "\n",
    "# Add text labels above the bars\n",
    "for i, (width, label) in enumerate(zip(cumulative_widths, order)):\n",
    "    # Get the color of the current bar segment\n",
    "    # Calculate the position for the text label\n",
    "    position = width - (patches[i].get_width() / 2)\n",
    "    # Add the text label to the plot\n",
    "    # Adjust the y-coordinate for the text label\n",
    "    y_position = len(sorted_percentage_df) - 0.3  # Adjust the 0.3 value as needed\n",
    "    ax.text(position, y_position, label, ha='center', color=colors[label], fontweight='bold')\n",
    "\n",
    "# Remove the legend\n",
    "ax.legend().set_visible(False)\n",
    "\n",
    "#plt.show()\n",
    "display(fig) # This command shows our updated figure (we can't re-use \"plt.show()\")"
   ]
  },
  {
   "cell_type": "code",
   "execution_count": null,
   "metadata": {
    "slideshow": {
     "slide_type": "subslide"
    }
   },
   "outputs": [],
   "source": [
    "# Add percentage values inside each patch\n",
    "for patch in ax.patches:\n",
    "    # Get the width and height of the patch\n",
    "    width, height = patch.get_width(), patch.get_height()\n",
    "    \n",
    "    # Calculate the position for the text label\n",
    "    x = patch.get_x() + width / 2\n",
    "    y = patch.get_y() + height / 2\n",
    "    \n",
    "    # Get the percentage value for the current patch\n",
    "    percentage = \"{:.0f}%\".format(width)\n",
    "    \n",
    "    # Add the text label to the plot\n",
    "    ax.text(x, y, percentage, ha='center', va='center', color='white', fontweight='bold')\n",
    "\n",
    "display(fig) # Let's see those nice text labels!"
   ]
  },
  {
   "cell_type": "code",
   "execution_count": null,
   "metadata": {
    "slideshow": {
     "slide_type": "subslide"
    }
   },
   "outputs": [],
   "source": [
    "# Clean up the figure to remove spines and unecessary labels/ticks, etc..\n",
    "\n",
    "# Remove x-axis label\n",
    "ax.set_xlabel('')\n",
    "\n",
    "# Remove the spines\n",
    "ax.spines['top'].set_visible(False)\n",
    "ax.spines['right'].set_visible(False)\n",
    "ax.spines['bottom'].set_visible(False)\n",
    "ax.spines['left'].set_visible(False)\n",
    "\n",
    "# Remove the y-axis tick marks\n",
    "ax.tick_params(axis='y', which='both', length=0)\n",
    "\n",
    "# Remove the x-axis tick marks and labels\n",
    "ax.tick_params(axis='x', which='both', bottom=False, top=False, labelbottom=False)\n",
    "\n",
    "display(fig) # Now 100% less visually cluttered!"
   ]
  },
  {
   "cell_type": "markdown",
   "metadata": {
    "editable": true,
    "slideshow": {
     "slide_type": "subslide"
    },
    "tags": []
   },
   "source": [
    "# What python?\n",
    "\n",
    "### Python Developer's Survey 2022\n",
    "[JetBrains, Inc.](https://lp.jetbrains.com/python-developers-survey-2022/)\n",
    "\n",
    "![image.png](assets/python_usage.png)\n",
    "\n",
    "Data is [here](https://drive.google.com/drive/folders/17jyWjMslux6N921jXFI7-kdZzJ4L6vCI)"
   ]
  },
  {
   "cell_type": "markdown",
   "metadata": {
    "slideshow": {
     "slide_type": "subslide"
    }
   },
   "source": [
    "### Activities of Data Analysis...\n",
    "[Anaconda State of Data Science](https://www.anaconda.com/state-of-data-science-2022)\n",
    "![image.png](assets/activities.png)\n"
   ]
  },
  {
   "cell_type": "markdown",
   "metadata": {
    "slideshow": {
     "slide_type": "slide"
    }
   },
   "source": [
    "# How Python?\n",
    "\n",
    "\n",
    "Writing code requires an editor.\n",
    "\n",
    "Running code requires an interpreter.\n",
    "\n",
    "How you setup your editor and your interpreter can vary widely...\n",
    "\n",
    "- On your machine? \n",
    "- On a server? \n",
    "- In the cloud? \n",
    "- In your browser? \n",
    "- In a file?"
   ]
  },
  {
   "cell_type": "markdown",
   "metadata": {
    "slideshow": {
     "slide_type": "subslide"
    }
   },
   "source": [
    "### Python Developer's Survey 2022\n",
    "[JetBrains, Inc.](https://lp.jetbrains.com/python-developers-survey-2022/)\n",
    "![editor/IDE usage](assets/editor_usage.png)"
   ]
  },
  {
   "cell_type": "markdown",
   "metadata": {
    "slideshow": {
     "slide_type": "slide"
    }
   },
   "source": [
    "### Workflow for EDS 217\n",
    "\n",
    "By end of this course, you will have learned the essentials of the python programming language, the main python data science library pandas, and basics of making figures using libraries that work with pandas dataframes. \n",
    "\n",
    "1. The next 9 days: Learn how to write code and get comfortable using Python.\n",
    "1. Our class will excclusively use Jupyter notebooks running in JuypterLab on our MEDS server.\n",
    "1. Eventually (later!) you can learn to manage python working environments using [conda](https://docs.conda.io/en/latest/)\n",
    "1. You can also learn to write code in an IDE using [VSCode](https://code.visualstudio.com). \n",
    "    (You should! Later!)\n",
    "1. You can also explore using .py files and other tools for developing your own functions and re-usable code.\n",
    "\n"
   ]
  },
  {
   "cell_type": "markdown",
   "metadata": {
    "slideshow": {
     "slide_type": "slide"
    }
   },
   "source": [
    "## The End"
   ]
  }
 ],
 "metadata": {
  "kernelspec": {
   "display_name": "Python 3 (ipykernel)",
   "language": "python",
   "name": "python3"
  },
  "language_info": {
   "codemirror_mode": {
    "name": "ipython",
    "version": 3
   },
   "file_extension": ".py",
   "mimetype": "text/x-python",
   "name": "python",
   "nbconvert_exporter": "python",
   "pygments_lexer": "ipython3",
   "version": "3.11.9"
  }
 },
 "nbformat": 4,
 "nbformat_minor": 4
}
