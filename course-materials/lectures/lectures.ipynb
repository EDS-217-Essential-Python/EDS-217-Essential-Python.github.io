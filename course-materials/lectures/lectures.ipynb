{
 "cells": [
  {
   "cell_type": "markdown",
   "metadata": {},
   "source": [
    "# EDS 217 Lectures\n",
    "\n",
    "This page contains links to lecture materials for EDS 217. \n",
    "\n",
    "NOTE: Not all lectures are given during the class. \n",
    "\n",
    "- [🐍 Introduction to Python Data Science](00_intro_to_python.ipynb)\n",
    "\n",
    "- [🐍 The Zen of Python](01_the_zen_of_python.ipynb)\n",
    "\n",
    "- [🐍 Types of Data Types](data_types.qmd)\n",
    "\n",
    "- [🐍 Next Steps in Learning Python](04-next_steps.ipynb)\n",
    "\n",
    "- [🐍 What the Python?: Tradeoffs and the Triple Dillema](05_Session_1A.qmd)\n",
    "\n",
    "- [🐼 A 9-Step Pandas Data Science Workflow](pandas_workflow.qmd)\n",
    "\n",
    "- [🐼 Data Decisions: Drop or Impute?](05_Drop_or_Impute.qmd)\n",
    "\n",
    "- [🐼 Introduction to Seaborn](seaborn.qmd)\n",
    "\n",
    "- [💪 Code Hygiene: Debugging](03-debugging.ipynb)\n",
    "\n",
    "- [💪 Code Hygiene: Dry vs. Wet Code](99_dry_vs_wet.ipynb)\n",
    "\n",
    "\n"
   ]
  }
 ],
 "metadata": {
  "language_info": {
   "name": "python"
  },
  "orig_nbformat": 4
 },
 "nbformat": 4,
 "nbformat_minor": 2
}
