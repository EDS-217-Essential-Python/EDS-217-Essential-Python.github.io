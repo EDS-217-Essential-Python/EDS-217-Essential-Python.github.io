{
 "cells": [
  {
   "cell_type": "code",
   "execution_count": 4,
   "metadata": {},
   "outputs": [],
   "source": [
    "import pandas as pd\n",
    "\n",
    "# Load the CO2 dataset\n",
    "co2_url = \"https://gml.noaa.gov/webdata/ccgg/trends/co2/co2_mm_mlo.csv\"\n",
    "co2_df = pd.read_csv(co2_url, comment='#', header=1, \n",
    "                     names=['Year', 'Month', 'DecimalDate', 'MonthlyAverage', \n",
    "                            'Deseasonalized', 'DaysInMonth', 'StdDev', 'Uncertainty'])\n"
   ]
  },
  {
   "cell_type": "code",
   "execution_count": 5,
   "metadata": {},
   "outputs": [
    {
     "data": {
      "text/html": [
       "<div>\n",
       "<style scoped>\n",
       "    .dataframe tbody tr th:only-of-type {\n",
       "        vertical-align: middle;\n",
       "    }\n",
       "\n",
       "    .dataframe tbody tr th {\n",
       "        vertical-align: top;\n",
       "    }\n",
       "\n",
       "    .dataframe thead th {\n",
       "        text-align: right;\n",
       "    }\n",
       "</style>\n",
       "<table border=\"1\" class=\"dataframe\">\n",
       "  <thead>\n",
       "    <tr style=\"text-align: right;\">\n",
       "      <th></th>\n",
       "      <th>Year</th>\n",
       "      <th>Month</th>\n",
       "      <th>DecimalDate</th>\n",
       "      <th>MonthlyAverage</th>\n",
       "      <th>Deseasonalized</th>\n",
       "      <th>DaysInMonth</th>\n",
       "      <th>StdDev</th>\n",
       "      <th>Uncertainty</th>\n",
       "    </tr>\n",
       "  </thead>\n",
       "  <tbody>\n",
       "    <tr>\n",
       "      <th>0</th>\n",
       "      <td>1958</td>\n",
       "      <td>4</td>\n",
       "      <td>1958.2877</td>\n",
       "      <td>317.45</td>\n",
       "      <td>315.16</td>\n",
       "      <td>-1</td>\n",
       "      <td>-9.99</td>\n",
       "      <td>-0.99</td>\n",
       "    </tr>\n",
       "    <tr>\n",
       "      <th>1</th>\n",
       "      <td>1958</td>\n",
       "      <td>5</td>\n",
       "      <td>1958.3699</td>\n",
       "      <td>317.51</td>\n",
       "      <td>314.69</td>\n",
       "      <td>-1</td>\n",
       "      <td>-9.99</td>\n",
       "      <td>-0.99</td>\n",
       "    </tr>\n",
       "    <tr>\n",
       "      <th>2</th>\n",
       "      <td>1958</td>\n",
       "      <td>6</td>\n",
       "      <td>1958.4548</td>\n",
       "      <td>317.27</td>\n",
       "      <td>315.15</td>\n",
       "      <td>-1</td>\n",
       "      <td>-9.99</td>\n",
       "      <td>-0.99</td>\n",
       "    </tr>\n",
       "    <tr>\n",
       "      <th>3</th>\n",
       "      <td>1958</td>\n",
       "      <td>7</td>\n",
       "      <td>1958.5370</td>\n",
       "      <td>315.87</td>\n",
       "      <td>315.20</td>\n",
       "      <td>-1</td>\n",
       "      <td>-9.99</td>\n",
       "      <td>-0.99</td>\n",
       "    </tr>\n",
       "    <tr>\n",
       "      <th>4</th>\n",
       "      <td>1958</td>\n",
       "      <td>8</td>\n",
       "      <td>1958.6219</td>\n",
       "      <td>314.93</td>\n",
       "      <td>316.21</td>\n",
       "      <td>-1</td>\n",
       "      <td>-9.99</td>\n",
       "      <td>-0.99</td>\n",
       "    </tr>\n",
       "  </tbody>\n",
       "</table>\n",
       "</div>"
      ],
      "text/plain": [
       "   Year  Month  DecimalDate  MonthlyAverage  Deseasonalized  DaysInMonth  \\\n",
       "0  1958      4    1958.2877          317.45          315.16           -1   \n",
       "1  1958      5    1958.3699          317.51          314.69           -1   \n",
       "2  1958      6    1958.4548          317.27          315.15           -1   \n",
       "3  1958      7    1958.5370          315.87          315.20           -1   \n",
       "4  1958      8    1958.6219          314.93          316.21           -1   \n",
       "\n",
       "   StdDev  Uncertainty  \n",
       "0   -9.99        -0.99  \n",
       "1   -9.99        -0.99  \n",
       "2   -9.99        -0.99  \n",
       "3   -9.99        -0.99  \n",
       "4   -9.99        -0.99  "
      ]
     },
     "execution_count": 5,
     "metadata": {},
     "output_type": "execute_result"
    }
   ],
   "source": [
    "co2_df.head()"
   ]
  },
  {
   "cell_type": "code",
   "execution_count": 6,
   "metadata": {},
   "outputs": [
    {
     "name": "stdout",
     "output_type": "stream",
     "text": [
      "        Date  CO2Concentration\n",
      "0 1958-04-01            317.45\n",
      "1 1958-05-01            317.51\n",
      "2 1958-06-01            317.27\n",
      "3 1958-07-01            315.87\n",
      "4 1958-08-01            314.93\n"
     ]
    }
   ],
   "source": [
    "\n",
    "# Convert Year and Month to datetime\n",
    "co2_df['Date'] = pd.to_datetime(co2_df['Year'].astype(str) + '-' + co2_df['Month'].astype(str) + '-01')\n",
    "\n",
    "# Select only the Date and MonthlyAverage columns\n",
    "co2_df = co2_df[['Date', 'MonthlyAverage']].rename(columns={'MonthlyAverage': 'CO2Concentration'})\n",
    "\n",
    "# Sort by date and reset index\n",
    "co2_df = co2_df.sort_values('Date').reset_index(drop=True)\n",
    "\n",
    "# Save to CSV\n",
    "co2_df.to_csv('monthly_co2_concentration.csv', index=False)\n",
    "\n",
    "print(co2_df.head())"
   ]
  },
  {
   "cell_type": "code",
   "execution_count": null,
   "metadata": {},
   "outputs": [],
   "source": []
  }
 ],
 "metadata": {
  "kernelspec": {
   "display_name": "eds217_3.10",
   "language": "python",
   "name": "eds217_3.10"
  },
  "language_info": {
   "codemirror_mode": {
    "name": "ipython",
    "version": 3
   },
   "file_extension": ".py",
   "mimetype": "text/x-python",
   "name": "python",
   "nbconvert_exporter": "python",
   "pygments_lexer": "ipython3",
   "version": "3.10.14"
  }
 },
 "nbformat": 4,
 "nbformat_minor": 2
}
